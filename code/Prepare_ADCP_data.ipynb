{
 "cells": [
  {
   "cell_type": "code",
   "execution_count": 1,
   "metadata": {},
   "outputs": [
    {
     "ename": "ModuleNotFoundError",
     "evalue": "No module named 'seaobs'",
     "output_type": "error",
     "traceback": [
      "\u001b[0;31m---------------------------------------------------------------------------\u001b[0m",
      "\u001b[0;31mModuleNotFoundError\u001b[0m                       Traceback (most recent call last)",
      "\u001b[0;32m<ipython-input-1-8d45ea67f2d5>\u001b[0m in \u001b[0;36m<module>\u001b[0;34m\u001b[0m\n\u001b[1;32m      2\u001b[0m \u001b[0;32mimport\u001b[0m \u001b[0mnumpy\u001b[0m \u001b[0;32mas\u001b[0m \u001b[0mnp\u001b[0m\u001b[0;34m\u001b[0m\u001b[0;34m\u001b[0m\u001b[0m\n\u001b[1;32m      3\u001b[0m \u001b[0;32mimport\u001b[0m \u001b[0mpandas\u001b[0m \u001b[0;32mas\u001b[0m \u001b[0mpd\u001b[0m\u001b[0;34m\u001b[0m\u001b[0;34m\u001b[0m\u001b[0m\n\u001b[0;32m----> 4\u001b[0;31m \u001b[0;32mimport\u001b[0m \u001b[0mseaobs\u001b[0m\u001b[0;34m.\u001b[0m\u001b[0mgeometry\u001b[0m \u001b[0;32mas\u001b[0m \u001b[0mgeom\u001b[0m\u001b[0;34m\u001b[0m\u001b[0;34m\u001b[0m\u001b[0m\n\u001b[0m\u001b[1;32m      5\u001b[0m \u001b[0;32mimport\u001b[0m \u001b[0mos\u001b[0m\u001b[0;34m\u001b[0m\u001b[0;34m\u001b[0m\u001b[0m\n\u001b[1;32m      6\u001b[0m \u001b[0mget_ipython\u001b[0m\u001b[0;34m(\u001b[0m\u001b[0;34m)\u001b[0m\u001b[0;34m.\u001b[0m\u001b[0mrun_line_magic\u001b[0m\u001b[0;34m(\u001b[0m\u001b[0;34m'matplotlib'\u001b[0m\u001b[0;34m,\u001b[0m \u001b[0;34m'inline'\u001b[0m\u001b[0;34m)\u001b[0m\u001b[0;34m\u001b[0m\u001b[0;34m\u001b[0m\u001b[0m\n",
      "\u001b[0;31mModuleNotFoundError\u001b[0m: No module named 'seaobs'"
     ]
    }
   ],
   "source": [
    "import xarray as xr\n",
    "import numpy as np\n",
    "import pandas as pd\n",
    "import seaobs.geometry as geom\n",
    "import os\n",
    "%matplotlib inline"
   ]
  },
  {
   "cell_type": "code",
   "execution_count": null,
   "metadata": {},
   "outputs": [],
   "source": [
    "%run preprocessing.py"
   ]
  },
  {
   "cell_type": "code",
   "execution_count": null,
   "metadata": {
    "collapsed": false,
    "jupyter": {
     "outputs_hidden": false
    }
   },
   "outputs": [],
   "source": [
    "input_path = \"/data/OBS/CRUISES_NETCDF/\"\n",
    "output_path = \"/data/OBS/ADCP/CLEAN/\"\n",
    "filenames = sorted(os.listdir(input_path))\n",
    "missions = [f[:-3] for  f in filenames]\n",
    "missions_excluded = ['FR0106_SADCP', 'FR032002_SADCP', 'FR072001_SADCP', 'FR082001_SADCP',\n",
    "                     'FR09107_SADCP', 'FR092001_SADCP', 'FR09208_SADCP', 'FR09302_SADCP',\n",
    "                     'FR9110_SADCP', 'FR9902_SADCP', 'MR0707_EK', 'MR1205_EK', 'SS200405_ADCP_60mn',\n",
    "                     'SS200406_ADCP_60mn', 'SS200410_ADCP_60mn', 'SS200502_ADCP_60mn', \n",
    "                     'SS200608_SADCP', 'SS200608_SADCP_treated', 'S201202_60mn_SADCP',\n",
    "                     'SS200410_ADCP_60mn', 'SS200806_SADCP', 'SS201203_60mn_SADCP',\n",
    "                     'SS200502_ADCP_60mn', 'SS200806_SADCP_treated', 'SS201206_60mn_SADCP',\n",
    "                     'SS200807_ADCP_B_60mn', 'SS201202_60mn_SADCP', 'SS2012_V02_60mn_SADCP',\n",
    "                     'ST200602_ADCP_60mn', 'ST200802_ADCP_B_60mn', 'ST200802_ADCP_C_60mn',\n",
    "                     'Sprayalis1_gridded_CURRENTS.', 'pandora150', 'valhy', '01544v3']"
   ]
  },
  {
   "cell_type": "code",
   "execution_count": null,
   "metadata": {},
   "outputs": [],
   "source": [
    "ds = xr.open_dataset(input_path + '01544v3.nc')"
   ]
  },
  {
   "cell_type": "code",
   "execution_count": null,
   "metadata": {},
   "outputs": [],
   "source": [
    "ds = open_adcp_transect_from_olvac(input_path + '01544v3.nc')"
   ]
  },
  {
   "cell_type": "code",
   "execution_count": 6,
   "metadata": {
    "collapsed": false,
    "jupyter": {
     "outputs_hidden": false
    }
   },
   "outputs": [
    {
     "name": "stdout",
     "output_type": "stream",
     "text": [
      "Cleaning mission 00138v3\n",
      "Temporal sampling is too low !\n",
      "Cleaning mission 00372v3\n",
      "Temporal sampling is too low !\n",
      "Cleaning mission 00383v3\n",
      "Temporal sampling is too low !\n",
      "Cleaning mission 00384v3\n",
      "Temporal sampling is too low !\n",
      "Cleaning mission 00939v3\n"
     ]
    },
    {
     "name": "stderr",
     "output_type": "stream",
     "text": [
      "/home/serazin/anaconda2/envs/oceanscience/lib/python3.5/site-packages/xarray/core/variable.py:1164: RuntimeWarning: invalid value encountered in greater_equal\n",
      "  if not reflexive\n",
      "/home/serazin/anaconda2/envs/oceanscience/lib/python3.5/site-packages/xarray/core/variable.py:1164: RuntimeWarning: invalid value encountered in less_equal\n",
      "  if not reflexive\n",
      "/home/serazin/anaconda2/envs/oceanscience/lib/python3.5/site-packages/xarray/core/variable.py:1164: RuntimeWarning: invalid value encountered in less\n",
      "  if not reflexive\n"
     ]
    },
    {
     "name": "stdout",
     "output_type": "stream",
     "text": [
      "Temporal sampling is too low !\n",
      "Cleaning mission 00940v3\n",
      "Temporal sampling is too low !\n",
      "Cleaning mission 00941v3\n",
      "Temporal sampling is too low !\n",
      "Cleaning mission 00942v3\n",
      "Temporal sampling is too low !\n",
      "Cleaning mission 00943v3\n",
      "Temporal sampling is too low !\n",
      "Cleaning mission 00944v3\n",
      "Temporal sampling is too low !\n",
      "Cleaning mission 00945v3\n",
      "Temporal sampling is too low !\n",
      "Cleaning mission 01068v3\n",
      "Temporal sampling is too low !\n",
      "Cleaning mission 01265v3\n",
      "Temporal sampling is too low !\n",
      "Cleaning mission 01266v3\n",
      "Temporal sampling is too low !\n",
      "Cleaning mission 01267v3\n",
      "Temporal sampling is too low !\n",
      "Cleaning mission 01290v3\n",
      "Temporal sampling is too low !\n",
      "Cleaning mission alize2\n",
      "Cleaning mission bifurcation\n",
      "Cleaning mission biopapua\n",
      "Cleaning mission bsmf\n",
      "Cleaning mission bula4a\n",
      "Cleaning mission bula5a\n",
      "Cleaning mission bula5r\n",
      "Cleaning mission calcot\n",
      "Cleaning mission coare1\n",
      "Cleaning mission coare2\n",
      "Cleaning mission coare3\n",
      "Cleaning mission concalis\n",
      "Cleaning mission diapalis1\n",
      "Cleaning mission diapalis2\n",
      "Cleaning mission diapalis3\n",
      "Cleaning mission diapalis4\n",
      "Cleaning mission diapalis5\n",
      "Cleaning mission diapalis7\n",
      "Cleaning mission diapalis8\n",
      "Cleaning mission diapalis9\n",
      "Cleaning mission ebene300\n",
      "Cleaning mission ebene75\n",
      "Cleaning mission emerlis3\n",
      "Cleaning mission essai_glider\n",
      "Cleaning mission flupac300\n",
      "Cleaning mission flupac75\n",
      "Cleaning mission flusec\n",
      "Cleaning mission frontalis1\n",
      "Cleaning mission frontalis2\n",
      "Cleaning mission frontalis3\n",
      "Cleaning mission geodeva5\n",
      "Cleaning mission gyrafort\n",
      "Cleaning mission halipro2\n",
      "Cleaning mission ipod\n",
      "Cleaning mission kaonou75\n",
      "Cleaning mission loss\n",
      "Cleaning mission mareva1\n",
      "Cleaning mission momalis1\n",
      "Cleaning mission nectalis1\n",
      "Cleaning mission nectalis2\n",
      "Cleaning mission nor1\n",
      "Cleaning mission noutah92\n",
      "Cleaning mission nouzu30\n",
      "Cleaning mission nouzu75\n",
      "Cleaning mission pandora38\n",
      "Cleaning mission pil2\n",
      "Cleaning mission pil3\n",
      "Cleaning mission poi\n",
      "Cleaning mission polynesie2013\n",
      "Cleaning mission pvs1\n",
      "Cleaning mission pvs3\n",
      "Cleaning mission salomon\n",
      "Cleaning mission secalis1\n",
      "Cleaning mission secalis2\n",
      "Cleaning mission secalis3\n",
      "Cleaning mission secalis4\n",
      "Cleaning mission secargo\n",
      "Cleaning mission sism\n",
      "Cleaning mission snm3\n",
      "Cleaning mission spot1\n",
      "Cleaning mission spot2\n",
      "Cleaning mission spot3\n",
      "Cleaning mission spot4\n",
      "Cleaning mission spot5\n",
      "Cleaning mission spot6\n",
      "Cleaning mission sprayalis2\n",
      "Cleaning mission sprayalis3\n",
      "Cleaning mission surtropac14\n",
      "Cleaning mission surtropac15\n",
      "Cleaning mission surtropac16\n",
      "Cleaning mission surtropac17\n",
      "Cleaning mission teralis1\n",
      "Cleaning mission trar\n",
      "Cleaning mission valhy_cor2\n",
      "Cleaning mission wespalis1\n",
      "Cleaning mission wespalis2\n",
      "Cleaning mission zonalis\n",
      "Cleaning mission zonec375\n",
      "Cleaning mission zonec475\n",
      "Cleaning mission zoneco1\n"
     ]
    }
   ],
   "source": [
    "for fi in filenames:\n",
    "    mission = fi[:-3]\n",
    "    if not mission in missions_excluded and not os.path.isfile(output_path + fi):\n",
    "        print('Cleaning mission %s' %mission)\n",
    "        ds = open_adcp_transect_from_olvac(input_path + fi)\n",
    "        mean_dt = pd.to_timedelta(ds.time.diff('time').median().item())\n",
    "        if mean_dt < pd.to_timedelta('15min'):\n",
    "            ds.to_netcdf(output_path + '%s.nc' % mission)\n",
    "        else:\n",
    "            print('Temporal sampling is too low !')"
   ]
  }
 ],
 "metadata": {
  "kernelspec": {
   "display_name": "Python [conda env:jplab] *",
   "language": "python",
   "name": "conda-env-jplab-py"
  },
  "language_info": {
   "codemirror_mode": {
    "name": "ipython",
    "version": 3
   },
   "file_extension": ".py",
   "mimetype": "text/x-python",
   "name": "python",
   "nbconvert_exporter": "python",
   "pygments_lexer": "ipython3",
   "version": "3.7.3"
  }
 },
 "nbformat": 4,
 "nbformat_minor": 4
}
