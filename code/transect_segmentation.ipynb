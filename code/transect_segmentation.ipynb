{
 "cells": [
  {
   "cell_type": "code",
   "execution_count": 17,
   "metadata": {
    "collapsed": false
   },
   "outputs": [],
   "source": [
    "import xarray as xr\n",
    "import os\n",
    "import pandas as pd\n",
    "import matplotlib.pyplot as plt\n",
    "import matplotlib.mlab\n",
    "import seaobs.turbulence as turb \n",
    "import seaobs.quality as qc\n",
    "import cartopy\n",
    "import cartopy.crs as ccrs\n",
    "import cartopy.feature as cfeature\n",
    "from cartopy.mpl.gridliner import LONGITUDE_FORMATTER, LATITUDE_FORMATTER\n",
    "from xscale.spectral.tools import fit_power_law, plot_power_law \n",
    "import numpy as np\n",
    "import glob\n",
    "import sitt\n",
    "from sitt import adcp\n",
    "#%matplotlib inline\n",
    "#matplotlib.rcParams['figure.figsize']= (10, 10)\n",
    "#matplotlib.rcParams['xtick.labelsize']= 14\n",
    "#matplotlib.rcParams['ytick.labelsize']= 14\n",
    "#matplotlib.rcParams['axes.labelsize']= 16"
   ]
  },
  {
   "cell_type": "code",
   "execution_count": 18,
   "metadata": {},
   "outputs": [],
   "source": [
    "from shapely.geometry import Polygon\n",
    "poly_VAUB = Polygon([[167.1, -22], [165.5, -21], [164.5, -20], [165.5, -20], \n",
    "                     [167, -21], [168.5, -22]])"
   ]
  },
  {
   "cell_type": "markdown",
   "metadata": {},
   "source": [
    "# Useful functions"
   ]
  },
  {
   "cell_type": "code",
   "execution_count": 3,
   "metadata": {
    "collapsed": true
   },
   "outputs": [],
   "source": [
    "def plot_transect(raw_data, segments=None, mission_name='',  poly=None, lat_min=-26, lat_max=-16, lon_min=160, lon_max=175):\n",
    "    \"\"\"\n",
    "    Plot ADCP transects from regions of intres\n",
    "    \"\"\"\n",
    "    ax = sitt.plot.add_map(lat_min=lat_min, lat_max=lat_max, lon_min=lon_min, lon_max=lon_max)\n",
    "    ds_surf = raw_data.isel(depth=0)\n",
    "    ax.plot(ds_surf.lon, ds_surf.lat, '--', label='Raw data', lw=1)\n",
    "    section_nb = 1 \n",
    "    for ds in segments:\n",
    "        ds_surf = ds.isel(depth=0)\n",
    "        ax.plot(ds_surf.lon, ds_surf.lat, '.', label='Segment %s' % section_nb, markersize=2)\n",
    "        section_nb +=1 \n",
    "    land = cfeature.GSHHSFeature(scale='intermediate', levels=[1], facecolor=cfeature.COLORS['land'])\n",
    "    if poly is not None:\n",
    "        ax.add_geometries(poly, ccrs.PlateCarree(), alpha=0.2)\n",
    "    plt.title(mission_name)\n",
    "    plt.legend()\n",
    "    plt.tight_layout()"
   ]
  },
  {
   "cell_type": "code",
   "execution_count": 4,
   "metadata": {
    "collapsed": true
   },
   "outputs": [],
   "source": [
    "def store_adcp_segments(segments, output_path, mission_name):\n",
    "    import pickle\n",
    "    full_output_path = output_path + mission_name + '/'\n",
    "    if not os.path.isdir(full_output_path):\n",
    "        os.makedirs(full_output_path)        \n",
    "    output_filenames = [full_output_path + mission_name + \n",
    "                        '_segment_%02d.nc' % (ns + 1)  for ns in range(len(segments))]\n",
    "    #for seg, filename in zip(segments, output_filenames):\n",
    "        #pdb.set_trace()\n",
    "        #seg.to_netcdf(filename)\n",
    "    #    pickle.dump(seg, open(filename, \"wb\"), protocol=-1)\n",
    "    xr.save_mfdataset(segments, output_filenames)"
   ]
  },
  {
   "cell_type": "code",
   "execution_count": 5,
   "metadata": {
    "collapsed": false
   },
   "outputs": [],
   "source": [
    "def plot_uship(raw_data, segments, mission_name='', ax=None):\n",
    "    if ax is None:\n",
    "        ax = plt.gca()\n",
    "    ds_surf = raw_data.isel(depth=0)\n",
    "    uship = xr.ufuncs.sqrt(ds_surf.uship ** 2 + ds_surf.vship ** 2)\n",
    "    uship.plot(label='Raw data', ls='--', ax=ax)\n",
    "    segment_nb = 1\n",
    "    for ds in segments:\n",
    "        ds_surf = ds.isel(depth=0)\n",
    "        uship = xr.ufuncs.sqrt(ds_surf.uship ** 2 + ds_surf.vship ** 2)\n",
    "        uship.plot(ax=ax)\n",
    "        segment_nb +=1\n",
    "    ax.set_ylabel(r'Ship velocity ($m.s^{-1}$)')\n",
    "    ax.set_title(mission_name)"
   ]
  },
  {
   "cell_type": "code",
   "execution_count": 6,
   "metadata": {
    "collapsed": true
   },
   "outputs": [],
   "source": [
    "def plot_heading(raw_data, segments, mission_name='', ax=None):\n",
    "    if ax is None:\n",
    "        ax = plt.gca()\n",
    "    raw_data.isel(depth=0).heading.plot(label='Raw data', ls='--', ax=ax)\n",
    "    segment_nb = 1\n",
    "    for ds in segments:\n",
    "        ds_surf = ds.isel(depth=0)\n",
    "        ds_surf.heading.plot(ax=ax)\n",
    "        segment_nb +=1 \n",
    "    ax.set_ylabel(r'Ship heading ($^{\\circ}$)')\n",
    "    ax.set_title(mission_name)"
   ]
  },
  {
   "cell_type": "code",
   "execution_count": 7,
   "metadata": {
    "collapsed": false
   },
   "outputs": [],
   "source": [
    "def monitor_segments(raw_data, segments, output_path, mission_name):\n",
    "    full_output_path = output_path + '/' + mission_name + '/'\n",
    "    plt.figure()\n",
    "    ax1 = plt.subplot(211)\n",
    "    plot_uship(raw_data, segments, mission_name=mission_name, ax=ax1)\n",
    "    ax2 = plt.subplot(212)\n",
    "    plot_heading(raw_data, segments, mission_name=mission_name, ax=ax2)\n",
    "    plt.tight_layout()\n",
    "    plt.savefig(full_output_path + mission_name + '_ship_velocity_and_heading.png', dpi=300)\n",
    "    plt.close()"
   ]
  },
  {
   "cell_type": "code",
   "execution_count": 8,
   "metadata": {
    "collapsed": true
   },
   "outputs": [],
   "source": [
    "def plot_segments_on_map(ds, segments, output_path, mission_name, lat_min=-40, lat_max=5, lon_min=150, lon_max=180):\n",
    "    full_output_path = output_path + mission_name + '/'\n",
    "    plt.figure()\n",
    "    plot_transect(ds, segments, mission_name=mission_name, lat_min=lat_min, lat_max=lat_max, lon_min=lon_min, lon_max=lon_max)\n",
    "    plt.savefig(full_output_path + mission_name + '_segment_map.png', dpi=300, bbox_inches='tight')\n",
    "    plt.tight_layout()\n",
    "    plt.close()"
   ]
  },
  {
   "cell_type": "code",
   "execution_count": 9,
   "metadata": {
    "collapsed": true
   },
   "outputs": [],
   "source": [
    "def adcp_data_segmentation(input_path, output_path, mission_name, max_break='10min', max_heading_rate=5,\n",
    "                           min_length=100, min_observations=50, poly=None):\n",
    "    \"\"\"\n",
    "    Perform a segmentation on the ship sss data\n",
    "    \"\"\"\n",
    "    print(\"Processing mission %s.\" % mission_name)  \n",
    "    try:\n",
    "        ds = xr.open_dataset(input_path + mission_name + '.nc')\n",
    "        segments = qc.get_segments(ds, poly=poly, attrs={'mission': mission_name})\n",
    "        if segments:\n",
    "            concat_segments = qc.concatenate_segments(segments, max_break=max_break, max_heading_rate=max_heading_rate)\n",
    "            valid_segments = qc.get_valid_segments(concat_segments, min_length=min_length, min_observations=min_observations)\n",
    "            if valid_segments:\n",
    "                qc.save_segments_to_netcdf(valid_segments, output_path, mission_name)\n",
    "                print(\"Segmentation of mission %s sucessfully saved.\" % mission_name)\n",
    "                monitor_segments(ds, valid_segments, output_path, mission_name)\n",
    "                plot_segments_on_map(ds, valid_segments, output_path, mission_name, lat_min=-26, lat_max=-16, lon_min=160, lon_max=175)        \n",
    "                return valid_segments\n",
    "    except (KeyError, ValueError):\n",
    "        print(\"Error processing mission %s.\" % mission_name)  "
   ]
  },
  {
   "cell_type": "code",
   "execution_count": null,
   "metadata": {},
   "outputs": [],
   "source": []
  },
  {
   "cell_type": "code",
   "execution_count": 19,
   "metadata": {},
   "outputs": [],
   "source": [
    "# Definition of the different polygon\n",
    "from shapely.geometry import Polygon\n",
    "poly_regions = dict()\n",
    "poly_regions['SCAL'] = Polygon([[162, -23], [171, -23], [171, -27], [162, -27]])\n",
    "poly_regions['STCC'] = Polygon([[169, -20.5], [169, -24], [180, -24], [180, -20.5]])\n",
    "poly_regions['VANU'] = Polygon([[169, -20], [166, -20], [162, -18], [162, -12], \n",
    "                                [166, -12], [166, -15]])\n",
    "poly_regions['VAUB'] = Polygon([[167.1, -22], [165.5, -21], [164.5, -20], [165.5, -20], \n",
    "                                [167, -21], [168.5, -22]])"
   ]
  },
  {
   "cell_type": "code",
   "execution_count": 25,
   "metadata": {},
   "outputs": [],
   "source": [
    "import quality as qc\n",
    "ds = xr.open_dataset('/data/OBS/TSG/LEGOS_CLEAN/sssdata_netcdf_good_3ENY2_20160408_20161016..nc')"
   ]
  },
  {
   "cell_type": "code",
   "execution_count": 26,
   "metadata": {},
   "outputs": [],
   "source": [
    "segments = qc.get_segments(ds, min_uship=4,\n",
    "                           max_heading_rate=5,\n",
    "                           poly=poly_regions['VANU'])"
   ]
  },
  {
   "cell_type": "code",
   "execution_count": 27,
   "metadata": {},
   "outputs": [
    {
     "data": {
      "text/plain": [
       "[<xarray.Dataset>\n",
       " Dimensions:    (time: 1)\n",
       " Coordinates:\n",
       "   * time       (time) datetime64[ns] 2007-03-25T14:55:00\n",
       "     lon        (time) float32 162.408\n",
       "     lat        (time) float32 -17.1098\n",
       " Data variables:\n",
       "     SST        (time) float32 28.127\n",
       "     SST_QC     (time) float64 0.0\n",
       "     SST_ERROR  (time) float32 0.5\n",
       "     SSS        (time) float32 34.827\n",
       "     SSS_QC     (time) float64 2.0\n",
       "     SSS_ERROR  (time) float32 -0.024\n",
       "     uship      (time) float64 -5.091\n",
       "     vship      (time) float64 1.871\n",
       "     heading    (time) float32 159.822\n",
       " Attributes:\n",
       "     segment_number:  1, <xarray.Dataset>\n",
       " Dimensions:    (time: 71)\n",
       " Coordinates:\n",
       "   * time       (time) datetime64[ns] 2007-03-25T15:05:00 2007-03-25T15:10:00 ...\n",
       "     lon        (time) float32 162.413 162.416 162.418 162.421 162.424 ...\n",
       "     lat        (time) float32 -17.14 -17.1552 -17.1698 -17.1855 -17.2012 ...\n",
       " Data variables:\n",
       "     SST        (time) float32 28.131 28.132 28.166 28.166 28.19 28.181 ...\n",
       "     SST_QC     (time) float64 0.0 0.0 0.0 0.0 0.0 0.0 0.0 0.0 0.0 0.0 0.0 ...\n",
       "     SST_ERROR  (time) float32 0.5 0.5 0.5 0.5 0.5 0.5 0.5 0.5 0.5 0.5 0.5 ...\n",
       "     SSS        (time) float32 34.812 34.805 34.817 34.813 34.816 34.817 ...\n",
       "     SSS_QC     (time) float64 2.0 2.0 2.0 2.0 2.0 2.0 2.0 2.0 2.0 2.0 2.0 ...\n",
       "     SSS_ERROR  (time) float32 -0.024 -0.024 -0.024 -0.024 -0.024 -0.024 ...\n",
       "     uship      (time) float64 -5.622 -5.622 -5.436 -5.807 -5.807 -5.931 ...\n",
       "     vship      (time) float64 0.8215 0.9511 0.9294 1.016 1.124 0.9292 1.062 ...\n",
       "     heading    (time) float32 171.686 170.397 170.297 170.078 169.047 ...\n",
       " Attributes:\n",
       "     segment_number:  2]"
      ]
     },
     "execution_count": 27,
     "metadata": {},
     "output_type": "execute_result"
    }
   ],
   "source": [
    "segments"
   ]
  },
  {
   "cell_type": "code",
   "execution_count": 23,
   "metadata": {},
   "outputs": [
    {
     "ename": "IndexError",
     "evalue": "list index out of range",
     "output_type": "error",
     "traceback": [
      "\u001b[0;31m---------------------------------------------------------------------------\u001b[0m",
      "\u001b[0;31mIndexError\u001b[0m                                Traceback (most recent call last)",
      "\u001b[0;32m<ipython-input-23-f7f079e5cffc>\u001b[0m in \u001b[0;36m<module>\u001b[0;34m()\u001b[0m\n\u001b[1;32m      1\u001b[0m concat_segments = qc.concatenate_segments(segments, \n\u001b[1;32m      2\u001b[0m                                           \u001b[0mmax_break\u001b[0m\u001b[0;34m=\u001b[0m\u001b[0;34m'15min'\u001b[0m\u001b[0;34m,\u001b[0m\u001b[0;34m\u001b[0m\u001b[0m\n\u001b[0;32m----> 3\u001b[0;31m                                           max_heading_rate=5)\n\u001b[0m",
      "\u001b[0;32m~/Code/serazin2018/quality.py\u001b[0m in \u001b[0;36mconcatenate_segments\u001b[0;34m(segments, max_break, max_heading_rate)\u001b[0m\n\u001b[1;32m    114\u001b[0m                 \u001b[0mA\u001b[0m \u001b[0mlist\u001b[0m \u001b[0mof\u001b[0m \u001b[0msegments\u001b[0m \u001b[0mof\u001b[0m \u001b[0msize\u001b[0m \u001b[0msmaller\u001b[0m \u001b[0mthan\u001b[0m \u001b[0mthe\u001b[0m \u001b[0minput\u001b[0m\u001b[0;34m\u001b[0m\u001b[0m\n\u001b[1;32m    115\u001b[0m \t\"\"\"\n\u001b[0;32m--> 116\u001b[0;31m         \u001b[0mtime_break\u001b[0m \u001b[0;34m=\u001b[0m \u001b[0m_compute_time_between_segments\u001b[0m\u001b[0;34m(\u001b[0m\u001b[0msegments\u001b[0m\u001b[0;34m)\u001b[0m\u001b[0;34m\u001b[0m\u001b[0m\n\u001b[0m\u001b[1;32m    117\u001b[0m         \u001b[0mheading_dev\u001b[0m \u001b[0;34m=\u001b[0m \u001b[0m_compute_heading_difference_between_segments\u001b[0m\u001b[0;34m(\u001b[0m\u001b[0msegments\u001b[0m\u001b[0;34m)\u001b[0m\u001b[0;34m\u001b[0m\u001b[0m\n\u001b[1;32m    118\u001b[0m         \u001b[0mmax_break\u001b[0m \u001b[0;34m=\u001b[0m \u001b[0mpd\u001b[0m\u001b[0;34m.\u001b[0m\u001b[0mto_timedelta\u001b[0m\u001b[0;34m(\u001b[0m\u001b[0mmax_break\u001b[0m\u001b[0;34m)\u001b[0m\u001b[0;34m\u001b[0m\u001b[0m\n",
      "\u001b[0;32m~/Code/serazin2018/quality.py\u001b[0m in \u001b[0;36m_compute_time_between_segments\u001b[0;34m(segments)\u001b[0m\n\u001b[1;32m     70\u001b[0m \t\"\"\"\n\u001b[1;32m     71\u001b[0m         \u001b[0mtime_break\u001b[0m \u001b[0;34m=\u001b[0m \u001b[0;34m[\u001b[0m\u001b[0;34m]\u001b[0m\u001b[0;34m\u001b[0m\u001b[0m\n\u001b[0;32m---> 72\u001b[0;31m         \u001b[0mprevious_segment\u001b[0m \u001b[0;34m=\u001b[0m \u001b[0msegments\u001b[0m\u001b[0;34m[\u001b[0m\u001b[0;36m0\u001b[0m\u001b[0;34m]\u001b[0m\u001b[0;34m\u001b[0m\u001b[0m\n\u001b[0m\u001b[1;32m     73\u001b[0m         \u001b[0;32mfor\u001b[0m \u001b[0mseg\u001b[0m \u001b[0;32min\u001b[0m \u001b[0msegments\u001b[0m\u001b[0;34m:\u001b[0m\u001b[0;34m\u001b[0m\u001b[0m\n\u001b[1;32m     74\u001b[0m \t\tdelta_time = pd.to_timedelta((seg['time'][0] -\n",
      "\u001b[0;31mIndexError\u001b[0m: list index out of range"
     ]
    }
   ],
   "source": [
    "concat_segments = qc.concatenate_segments(segments, \n",
    "                                          max_break='15min',                                                      \n",
    "                                          max_heading_rate=5)"
   ]
  },
  {
   "cell_type": "markdown",
   "metadata": {},
   "source": [
    "# Run the segmentation on one example ADCP file"
   ]
  },
  {
   "cell_type": "code",
   "execution_count": 12,
   "metadata": {
    "collapsed": false
   },
   "outputs": [],
   "source": [
    "input_path = \"/data/OBS/ADCP/clean_data/\"\n",
    "output_path = \"/data/OBS/ADCP/test_segments/\"\n",
    "filenames = sorted(os.listdir(input_path))\n",
    "missions = [f[:-3] for  f in filenames]\n",
    "max_break='30min'\n",
    "max_heading_rate=5\n",
    "min_length=50\n",
    "min_observations=50\n",
    "poly = Polygon([[167.1, -22], [165.5, -21],[167, -21], [168.5, -22]])"
   ]
  },
  {
   "cell_type": "code",
   "execution_count": 13,
   "metadata": {
    "collapsed": false
   },
   "outputs": [],
   "source": [
    "mission_name ='sprayalis3'\n",
    "ds = xr.open_dataset(input_path + mission_name + '.nc')"
   ]
  },
  {
   "cell_type": "code",
   "execution_count": 14,
   "metadata": {
    "collapsed": false
   },
   "outputs": [
    {
     "data": {
      "text/plain": [
       "<xarray.Dataset>\n",
       "Dimensions:  (depth: 56, time: 317)\n",
       "Coordinates:\n",
       "  * time     (time) datetime64[ns] 2012-10-01T07:38:44 2012-10-01T07:48:45 ...\n",
       "  * depth    (depth) float64 24.0 40.0 56.0 72.0 88.0 104.0 120.0 136.0 ...\n",
       "    nprofs   float64 1.0\n",
       "Data variables:\n",
       "    lon      (time) float64 167.1 167.1 167.1 167.1 167.1 167.1 167.1 167.1 ...\n",
       "    lat      (time) float64 -22.15 -22.11 -22.09 -22.06 -22.03 -22.01 -21.98 ...\n",
       "    heading  (time) float64 357.0 355.4 357.5 358.3 356.0 356.0 355.8 356.1 ...\n",
       "    uship    (time) float64 -0.392 -0.394 -0.398 -0.376 -0.383 -0.349 -0.365 ...\n",
       "    u        (depth, time) float64 -0.015 0.056 -0.036 -0.074 -0.051 0.041 ...\n",
       "    vship    (time) float64 5.069 5.098 5.032 4.984 4.838 4.812 4.814 4.758 ...\n",
       "    v        (depth, time) float64 0.237 0.118 0.12 0.151 0.155 0.076 0.045 ...\n",
       "    e        (depth, time) float64 0.028 0.012 -0.012 0.021 -0.003 0.016 ...\n",
       "    pg       (depth, time) float64 99.0 99.0 99.0 99.0 100.0 100.0 100.0 ...\n",
       "    pflag    (depth, time) float64 0.0 0.0 0.0 0.0 0.0 0.0 0.0 0.0 0.0 0.0 ...\n",
       "Attributes:\n",
       "    description:  sprayalis3:  2012/10/01 07:28:46 to 2012/10/03 18:01:39\n",
       "    authors:      Elodie Kestenare\n",
       "    date:         05-Nov-2013 11:13\n",
       "    history:      FERRET V6.3   12-Nov-13\n",
       "    Conventions:  CF-1.0"
      ]
     },
     "execution_count": 14,
     "metadata": {},
     "output_type": "execute_result"
    }
   ],
   "source": [
    "ds"
   ]
  },
  {
   "cell_type": "code",
   "execution_count": 15,
   "metadata": {
    "collapsed": true
   },
   "outputs": [],
   "source": [
    "%matplotlib inline"
   ]
  },
  {
   "cell_type": "code",
   "execution_count": 16,
   "metadata": {
    "collapsed": false
   },
   "outputs": [
    {
     "data": {
      "text/plain": [
       "[<matplotlib.lines.Line2D at 0x7fc719fb6a90>]"
      ]
     },
     "execution_count": 16,
     "metadata": {},
     "output_type": "execute_result"
    },
    {
     "data": {
      "image/png": "[encoded data removed]",
      "text/plain": [
       "<Figure size 432x288 with 1 Axes>"
      ]
     },
     "metadata": {},
     "output_type": "display_data"
    }
   ],
   "source": [
    "ds.lon.plot()"
   ]
  },
  {
   "cell_type": "code",
   "execution_count": 17,
   "metadata": {
    "collapsed": false
   },
   "outputs": [
    {
     "name": "stdout",
     "output_type": "stream",
     "text": [
      "Automatic pdb calling has been turned OFF\n"
     ]
    }
   ],
   "source": [
    "%pdb off"
   ]
  },
  {
   "cell_type": "code",
   "execution_count": 18,
   "metadata": {
    "collapsed": false
   },
   "outputs": [],
   "source": [
    "segments = qc.get_segments(ds, poly=poly, attrs={'mission': mission_name})"
   ]
  },
  {
   "cell_type": "code",
   "execution_count": 19,
   "metadata": {
    "collapsed": false
   },
   "outputs": [
    {
     "data": {
      "text/plain": [
       "4"
      ]
     },
     "execution_count": 19,
     "metadata": {},
     "output_type": "execute_result"
    }
   ],
   "source": [
    "len(segments)"
   ]
  },
  {
   "cell_type": "code",
   "execution_count": 20,
   "metadata": {
    "collapsed": false
   },
   "outputs": [
    {
     "data": {
      "text/plain": [
       "<xarray.Dataset>\n",
       "Dimensions:  (depth: 56, time: 38)\n",
       "Coordinates:\n",
       "  * time     (time) datetime64[ns] 2012-10-01T08:38:44 2012-10-01T08:48:46 ...\n",
       "  * depth    (depth) float64 24.0 40.0 56.0 72.0 88.0 104.0 120.0 136.0 ...\n",
       "    nprofs   float64 1.0\n",
       "Data variables:\n",
       "    lon      (time) float64 167.1 167.1 167.1 167.1 167.1 167.1 167.1 167.1 ...\n",
       "    lat      (time) float64 -21.98 -21.96 -21.93 -21.9 -21.88 -21.85 -21.83 ...\n",
       "    heading  (time) float64 355.8 356.1 356.3 356.6 356.7 356.9 356.3 356.3 ...\n",
       "    uship    (time) float64 -0.365 -0.369 -0.358 -0.359 -0.379 -0.37 -0.379 ...\n",
       "    u        (depth, time) float64 0.094 0.03 0.065 0.008 -0.055 -0.05 0.018 ...\n",
       "    vship    (time) float64 4.814 4.758 4.771 4.796 4.813 4.822 4.868 4.852 ...\n",
       "    v        (depth, time) float64 0.045 -0.006001 -0.018 0.027 0.059 0.047 ...\n",
       "    e        (depth, time) float64 -0.003 -0.026 0.017 -0.018 0.034 -0.017 ...\n",
       "    pg       (depth, time) float64 100.0 99.0 99.0 99.0 100.0 99.0 100.0 ...\n",
       "    pflag    (depth, time) float64 0.0 0.0 0.0 0.0 0.0 0.0 0.0 0.0 0.0 0.0 ...\n",
       "Attributes:\n",
       "    mission:         sprayalis3\n",
       "    segment_number:  1"
      ]
     },
     "execution_count": 20,
     "metadata": {},
     "output_type": "execute_result"
    }
   ],
   "source": [
    "segments[0]"
   ]
  },
  {
   "cell_type": "code",
   "execution_count": 21,
   "metadata": {
    "collapsed": false
   },
   "outputs": [],
   "source": [
    "concat_segments = qc.concatenate_segments(segments, max_break=max_break, max_heading_rate=max_heading_rate)"
   ]
  },
  {
   "cell_type": "code",
   "execution_count": 22,
   "metadata": {
    "collapsed": false
   },
   "outputs": [
    {
     "data": {
      "text/plain": [
       "<xarray.Dataset>\n",
       "Dimensions:  (depth: 56, time: 38)\n",
       "Coordinates:\n",
       "  * depth    (depth) float64 24.0 40.0 56.0 72.0 88.0 104.0 120.0 136.0 ...\n",
       "    nprofs   float64 1.0\n",
       "  * time     (time) datetime64[ns] 2012-10-01T08:38:44 2012-10-01T08:48:46 ...\n",
       "Data variables:\n",
       "    lon      (time) float64 167.1 167.1 167.1 167.1 167.1 167.1 167.1 167.1 ...\n",
       "    lat      (time) float64 -21.98 -21.96 -21.93 -21.9 -21.88 -21.85 -21.83 ...\n",
       "    heading  (time) float64 355.8 356.1 356.3 356.6 356.7 356.9 356.3 356.3 ...\n",
       "    uship    (time) float64 -0.365 -0.369 -0.358 -0.359 -0.379 -0.37 -0.379 ...\n",
       "    u        (depth, time) float64 0.094 0.03 0.065 0.008 -0.055 -0.05 0.018 ...\n",
       "    vship    (time) float64 4.814 4.758 4.771 4.796 4.813 4.822 4.868 4.852 ...\n",
       "    v        (depth, time) float64 0.045 -0.006001 -0.018 0.027 0.059 0.047 ...\n",
       "    e        (depth, time) float64 -0.003 -0.026 0.017 -0.018 0.034 -0.017 ...\n",
       "    pg       (depth, time) float64 100.0 99.0 99.0 99.0 100.0 99.0 100.0 ...\n",
       "    pflag    (depth, time) float64 0.0 0.0 0.0 0.0 0.0 0.0 0.0 0.0 0.0 0.0 ...\n",
       "Attributes:\n",
       "    mission:         sprayalis3\n",
       "    segment_number:  1"
      ]
     },
     "execution_count": 22,
     "metadata": {},
     "output_type": "execute_result"
    }
   ],
   "source": [
    "concat_segments[0]"
   ]
  },
  {
   "cell_type": "code",
   "execution_count": 23,
   "metadata": {
    "collapsed": false
   },
   "outputs": [
    {
     "data": {
      "text/plain": [
       "[<matplotlib.lines.Line2D at 0x7fc719fb0940>]"
      ]
     },
     "execution_count": 23,
     "metadata": {},
     "output_type": "execute_result"
    },
    {
     "data": {
      "image/png": "[encoded data removed]",
      "text/plain": [
       "<Figure size 432x288 with 1 Axes>"
      ]
     },
     "metadata": {},
     "output_type": "display_data"
    }
   ],
   "source": [
    "concat_segments[0].uship.plot()"
   ]
  },
  {
   "cell_type": "code",
   "execution_count": 24,
   "metadata": {
    "collapsed": false
   },
   "outputs": [],
   "source": [
    "valid_segments = qc.get_valid_segments(concat_segments, min_length=min_length, min_observations=10)"
   ]
  },
  {
   "cell_type": "code",
   "execution_count": 25,
   "metadata": {
    "collapsed": false
   },
   "outputs": [],
   "source": [
    "valid_segments = [seg.compute() for seg in valid_segments]"
   ]
  },
  {
   "cell_type": "code",
   "execution_count": 26,
   "metadata": {
    "collapsed": false
   },
   "outputs": [
    {
     "data": {
      "text/plain": [
       "<xarray.Dataset>\n",
       "Dimensions:  (depth: 56, time: 38)\n",
       "Coordinates:\n",
       "  * depth    (depth) float64 24.0 40.0 56.0 72.0 88.0 104.0 120.0 136.0 ...\n",
       "    nprofs   float64 1.0\n",
       "  * time     (time) datetime64[ns] 2012-10-01T08:38:44 2012-10-01T08:48:46 ...\n",
       "Data variables:\n",
       "    lon      (time) float64 167.1 167.1 167.1 167.1 167.1 167.1 167.1 167.1 ...\n",
       "    lat      (time) float64 -21.98 -21.96 -21.93 -21.9 -21.88 -21.85 -21.83 ...\n",
       "    heading  (time) float64 355.8 356.1 356.3 356.6 356.7 356.9 356.3 356.3 ...\n",
       "    uship    (time) float64 -0.365 -0.369 -0.358 -0.359 -0.379 -0.37 -0.379 ...\n",
       "    u        (depth, time) float64 0.094 0.03 0.065 0.008 -0.055 -0.05 0.018 ...\n",
       "    vship    (time) float64 4.814 4.758 4.771 4.796 4.813 4.822 4.868 4.852 ...\n",
       "    v        (depth, time) float64 0.045 -0.006001 -0.018 0.027 0.059 0.047 ...\n",
       "    e        (depth, time) float64 -0.003 -0.026 0.017 -0.018 0.034 -0.017 ...\n",
       "    pg       (depth, time) float64 100.0 99.0 99.0 99.0 100.0 99.0 100.0 ...\n",
       "    pflag    (depth, time) float64 0.0 0.0 0.0 0.0 0.0 0.0 0.0 0.0 0.0 0.0 ...\n",
       "Attributes:\n",
       "    mission:         sprayalis3\n",
       "    segment_number:  1"
      ]
     },
     "execution_count": 26,
     "metadata": {},
     "output_type": "execute_result"
    }
   ],
   "source": [
    "valid_segments[0]"
   ]
  },
  {
   "cell_type": "code",
   "execution_count": 27,
   "metadata": {
    "collapsed": false
   },
   "outputs": [],
   "source": [
    "store_adcp_segments(valid_segments, output_path, mission_name)"
   ]
  },
  {
   "cell_type": "code",
   "execution_count": 28,
   "metadata": {
    "collapsed": false
   },
   "outputs": [],
   "source": [
    "monitor_segments(ds, valid_segments, output_path, mission_name)"
   ]
  },
  {
   "cell_type": "code",
   "execution_count": 29,
   "metadata": {
    "collapsed": false
   },
   "outputs": [],
   "source": [
    "plot_segments_on_map(ds, valid_segments, output_path, mission_name, lat_min=-26, lat_max=-16, lon_min=160, lon_max=175)        "
   ]
  },
  {
   "cell_type": "code",
   "execution_count": 30,
   "metadata": {
    "collapsed": false
   },
   "outputs": [
    {
     "ename": "SyntaxError",
     "evalue": "invalid syntax (<ipython-input-30-c558a5ce0699>, line 1)",
     "output_type": "error",
     "traceback": [
      "\u001b[0;36m  File \u001b[0;32m\"<ipython-input-30-c558a5ce0699>\"\u001b[0;36m, line \u001b[0;32m1\u001b[0m\n\u001b[0;31m    valid_segments = adcp_data_segmentation(input_path, output_path, , min_length=100)\u001b[0m\n\u001b[0m                                                                     ^\u001b[0m\n\u001b[0;31mSyntaxError\u001b[0m\u001b[0;31m:\u001b[0m invalid syntax\n"
     ]
    }
   ],
   "source": [
    "valid_segments = adcp_data_segmentation(input_path, output_path, , min_length=100)"
   ]
  },
  {
   "cell_type": "code",
   "execution_count": null,
   "metadata": {
    "collapsed": false
   },
   "outputs": [],
   "source": [
    "ds = open_adcp_transect_from_olvac(input_path + '00945v3.nc', chunks={'time': 500})"
   ]
  },
  {
   "cell_type": "code",
   "execution_count": null,
   "metadata": {
    "collapsed": false
   },
   "outputs": [],
   "source": [
    "heading = compute_heading(ds.lat, ds.lon)"
   ]
  },
  {
   "cell_type": "code",
   "execution_count": null,
   "metadata": {
    "collapsed": false
   },
   "outputs": [],
   "source": [
    "ds.lon.isel(depth=0).plot()"
   ]
  },
  {
   "cell_type": "code",
   "execution_count": null,
   "metadata": {
    "collapsed": false
   },
   "outputs": [],
   "source": [
    "ds.heading.isel(depth=0).plot()"
   ]
  },
  {
   "cell_type": "code",
   "execution_count": null,
   "metadata": {
    "collapsed": true
   },
   "outputs": [],
   "source": []
  }
 ],
 "metadata": {
  "kernelspec": {
   "display_name": "Python [conda env:jplab]",
   "language": "python",
   "name": "conda-env-jplab-py"
  },
  "language_info": {
   "codemirror_mode": {
    "name": "ipython",
    "version": 3
   },
   "file_extension": ".py",
   "mimetype": "text/x-python",
   "name": "python",
   "nbconvert_exporter": "python",
   "pygments_lexer": "ipython3",
   "version": "3.7.3"
  }
 },
 "nbformat": 4,
 "nbformat_minor": 2
}
